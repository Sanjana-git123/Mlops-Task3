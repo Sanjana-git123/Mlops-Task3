{
 "cells": [
  {
   "cell_type": "code",
   "execution_count": null,
   "metadata": {},
   "outputs": [],
   "source": [
    "import os\n",
    "import cv2 \n",
    "cap=cv2.VideoCapture(0)\n",
    "import numpy as np\n",
    "import socket \n",
    "\n",
    "# Client socket created\n",
    "s=socket.socket(socket.AF_INET, socket.SOCK_STREAM)\n",
    "\n",
    "ip=\"192.168.9.186\n",
    "port=8888\n",
    "# Connection to server \n",
    "s.connect((ip,port))\n",
    "\n",
    "while True: \n",
    "    stat,photo=cap.read()\n",
    "    # Encode and send data via network\n",
    "    photo_data = cv2.imencode('.jpg', photo)[1].tobytes()\n",
    "    s.sendall(photo_data)\n",
    "    \n",
    "    data = s.recv(90456)\n",
    "    # Decode the image\n",
    "    arry = np.fromstring(data, np.uint8)\n",
    "    photo = cv2.imdecode(arry, cv2.IMREAD_COLOR)\n",
    "    if type(photo) is type(None):\n",
    "        pass\n",
    "    else:\n",
    "        cv2.imshow(\"CLIENT-SCREEN\",photo)\n",
    "        if cv2.waitKey(10)==13:\n",
    "            break\n",
    "cv2.destroyAllWindows()\n",
    "cap.release()\n",
    "os.system(\"cls\")"
   ]
  }
 ],
 "metadata": {
  "kernelspec": {
   "display_name": "Python 3",
   "language": "python",
   "name": "python3"
  },
  "language_info": {
   "codemirror_mode": {
    "name": "ipython",
    "version": 3
   },
   "file_extension": ".py",
   "mimetype": "text/x-python",
   "name": "python",
   "nbconvert_exporter": "python",
   "pygments_lexer": "ipython3",
   "version": "3.8.3"
  }
 },
 "nbformat": 4,
 "nbformat_minor": 4
}
