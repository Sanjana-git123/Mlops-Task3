{
 "cells": [
  {
   "cell_type": "code",
   "execution_count": null,
   "metadata": {},
   "outputs": [],
   "source": [
    "import os \n",
    "import cv2 \n",
    "cap=cv2.VideoCapture(1)\n",
    "import numpy as np\n",
    "import socket \n",
    "\n",
    "# Create Socket\n",
    "s=socket.socket(socket.AF_INET, socket.SOCK_STREAM)\n",
    "\n",
    "ip=\"192.168.9.186\"\n",
    "port=8888\n",
    "# Socket Binding\n",
    "s.bind((ip,port))\n",
    "\n",
    "s.listen(5)\n",
    "# Listening and waiting for connection\n",
    "conn,addr = s.accept()\n",
    "\n",
    "while True: \n",
    "    data = conn.recv(90456)\n",
    "    # Decode the image\n",
    "    arry = np.fromstring(data, np.uint8)\n",
    "    photo = cv2.imdecode(arry, cv2.IMREAD_COLOR)\n",
    "    if type(photo) is type(None):\n",
    "        pass\n",
    "    else:\n",
    "        cv2.imshow(\"SERVER-SCREEN\",photo)\n",
    "        if cv2.waitKey(10)==13:\n",
    "            break\n",
    "    stat,photo=cap.read()\n",
    "    # Encode image and send via network\n",
    "    photo_data = cv2.imencode('.jpg', photo)[1].tobytes()\n",
    "    conn.sendall(photo_data)\n",
    "cv2.destroyAllWindows()\n",
    "cap.release()\n",
    "os.system(\"cls\")"
   ]
  },
  {
   "cell_type": "code",
   "execution_count": null,
   "metadata": {},
   "outputs": [],
   "source": []
  }
 ],
 "metadata": {
  "kernelspec": {
   "display_name": "Python 3",
   "language": "python",
   "name": "python3"
  },
  "language_info": {
   "codemirror_mode": {
    "name": "ipython",
    "version": 3
   },
   "file_extension": ".py",
   "mimetype": "text/x-python",
   "name": "python",
   "nbconvert_exporter": "python",
   "pygments_lexer": "ipython3",
   "version": "3.8.3"
  }
 },
 "nbformat": 4,
 "nbformat_minor": 4
}
