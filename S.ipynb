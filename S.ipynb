{
 "cells": [
  {
   "cell_type": "code",
   "execution_count": null,
   "metadata": {},
   "outputs": [],
   "source": [
    "import cv2\n",
    "import socket\n",
    "import pickle\n",
    "import struct\n",
    "try:\n",
    "    skt = socket.socket(socket.AF_INET, socket.SOCK_STREAM)\n",
    "    print(\"socket successfully created \")\n",
    "except socket.error as err:\n",
    "        print(\"socket creation failed with error {} \".fornatat(err))\n",
    "port = 1234\n",
    "skt.bind((\"\",port))\n",
    "skt.listen()\n",
    "print(\"Socket is listening\")\n",
    "while True:\n",
    "    session, address = skt.accept()\n",
    "    print(\"Connnected to \",address)\n",
    "    if session:\n",
    "        cam = cv2.VideoCapture(0)\n",
    "        while(cam.isOpened()):\n",
    "            ret, img = cam.read()\n",
    "            data = pickle.dumps(img)\n",
    "            msg = struct.pack(\"Q\",len(data))+data\n",
    "            session.sendall(msg)\n",
    "            cv2.imshow(\"Transmitting video...\",img)\n",
    "            if cv2.waitKey(1)==13:\n",
    "                cv2.destroyAllWindows()\n",
    "                session.close()\n",
    "                break"
   ]
  },
  {
   "cell_type": "code",
   "execution_count": null,
   "metadata": {},
   "outputs": [],
   "source": []
  },
  {
   "cell_type": "code",
   "execution_count": null,
   "metadata": {},
   "outputs": [],
   "source": []
  }
 ],
 "metadata": {
  "interpreter": {
   "hash": "37eb40c3388cfde35488e2d005b0d69ca91ddeff8a429754d4da636d3f888e5e"
  },
  "kernelspec": {
   "display_name": "Python 3",
   "language": "python",
   "name": "python3"
  },
  "language_info": {
   "codemirror_mode": {
    "name": "ipython",
    "version": 3
   },
   "file_extension": ".py",
   "mimetype": "text/x-python",
   "name": "python",
   "nbconvert_exporter": "python",
   "pygments_lexer": "ipython3",
   "version": "3.8.3"
  }
 },
 "nbformat": 4,
 "nbformat_minor": 4
}
